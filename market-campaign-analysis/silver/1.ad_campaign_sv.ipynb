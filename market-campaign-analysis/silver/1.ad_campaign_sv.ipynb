{
 "cells": [
  {
   "cell_type": "code",
   "execution_count": 0,
   "metadata": {
    "application/vnd.databricks.v1+cell": {
     "cellMetadata": {
      "byteLimit": 2048000,
      "rowLimit": 10000
     },
     "inputWidgets": {},
     "nuid": "7fdaebbc-d697-4420-91e4-aff1edd064fd",
     "showTitle": false,
     "tableResultSettingsMap": {},
     "title": ""
    }
   },
   "outputs": [],
   "source": [
    "def readAndTransformAdCampaignBz():\n",
    "    from pyspark.sql.functions import to_timestamp, expr\n",
    "    return spark.read.table(\"ad_campaign_bz\")\\\n",
    "                        .withColumn(\"user_id\", expr(\"cast(user_id as long)\"))\\\n",
    "                        .withColumn(\"event_time\", to_timestamp(\"event_time\"))\\\n",
    "                        .selectExpr(\"* except(load_time, input_file)\")\n",
    "\n",
    "def saveAdCampaignSv(df):\n",
    "    df.write.mode(\"overwrite\").saveAsTable(\"ad_campaign_sv\")\n",
    "    print(\"\\nsaved ad campaign sv data to table\")"
   ]
  },
  {
   "cell_type": "code",
   "execution_count": 0,
   "metadata": {
    "application/vnd.databricks.v1+cell": {
     "cellMetadata": {
      "byteLimit": 2048000,
      "rowLimit": 10000
     },
     "inputWidgets": {},
     "nuid": "184e705f-1aad-4288-a051-04098f9d8755",
     "showTitle": false,
     "tableResultSettingsMap": {},
     "title": ""
    }
   },
   "outputs": [],
   "source": [
    "def runAdCampaignSvProcess():\n",
    "    print(\"\\nstarted ad campaign silver loading\")\n",
    "    df_ad_campaign_bz = readAndTransformAdCampaignBz()\n",
    "    saveAdCampaignSv(df_ad_campaign_bz)\n",
    "    print(\"\\ncompleted ad campaign silver loading\")\n"
   ]
  },
  {
   "cell_type": "code",
   "execution_count": 0,
   "metadata": {
    "application/vnd.databricks.v1+cell": {
     "cellMetadata": {
      "byteLimit": 2048000,
      "rowLimit": 10000
     },
     "inputWidgets": {},
     "nuid": "52d8787f-a65f-4dc2-966d-df845270c258",
     "showTitle": false,
     "tableResultSettingsMap": {},
     "title": ""
    }
   },
   "outputs": [],
   "source": [
    "runAdCampaignSvProcess()"
   ]
  },
  {
   "cell_type": "code",
   "execution_count": 0,
   "metadata": {
    "application/vnd.databricks.v1+cell": {
     "cellMetadata": {
      "byteLimit": 2048000,
      "implicitDf": true,
      "rowLimit": 10000
     },
     "inputWidgets": {},
     "nuid": "8be92790-b164-4b6d-b320-d997f065d582",
     "showTitle": false,
     "tableResultSettingsMap": {},
     "title": ""
    }
   },
   "outputs": [],
   "source": [
    "%sql\n",
    "select * from ad_campaign_sv"
   ]
  }
 ],
 "metadata": {
  "application/vnd.databricks.v1+notebook": {
   "computePreferences": null,
   "dashboards": [],
   "environmentMetadata": {
    "base_environment": "",
    "client": "1"
   },
   "language": "python",
   "notebookMetadata": {
    "mostRecentlyExecutedCommandWithImplicitDF": {
     "commandId": 8889297661143900,
     "dataframes": [
      "_sqldf"
     ]
    },
    "pythonIndentUnit": 4
   },
   "notebookName": "1.ad_campaign_sv",
   "widgets": {}
  },
  "language_info": {
   "name": "python"
  }
 },
 "nbformat": 4,
 "nbformat_minor": 0
}
