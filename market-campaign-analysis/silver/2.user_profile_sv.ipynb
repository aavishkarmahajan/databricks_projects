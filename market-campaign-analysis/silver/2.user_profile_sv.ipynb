{
 "cells": [
  {
   "cell_type": "code",
   "execution_count": 0,
   "metadata": {
    "application/vnd.databricks.v1+cell": {
     "cellMetadata": {
      "byteLimit": 2048000,
      "rowLimit": 10000
     },
     "inputWidgets": {},
     "nuid": "71d1b44f-404e-4d97-b3ff-9db407f0b7b3",
     "showTitle": false,
     "tableResultSettingsMap": {},
     "title": ""
    }
   },
   "outputs": [],
   "source": [
    "def readAndTransformUserProfile():\n",
    "    from pyspark.sql.functions import explode, expr\n",
    "    return spark.read.table(\"user_profile_bz\")\\\n",
    "                .withColumn(\"user_id\", expr(\"cast(user_id as long)\"))\\\n",
    "                .select(\"age_group\", explode(\"category\").alias(\"category_expl\"), \"country\", \"gender\", \"user_id\")\n",
    "\n",
    "def saveUserProfileSv(df):\n",
    "    df.write.mode(\"overwrite\").saveAsTable(\"user_profile_sv\")\n",
    "    print(\"\\nsaved user profile sv data to table\")"
   ]
  },
  {
   "cell_type": "code",
   "execution_count": 0,
   "metadata": {
    "application/vnd.databricks.v1+cell": {
     "cellMetadata": {
      "byteLimit": 2048000,
      "rowLimit": 10000
     },
     "inputWidgets": {},
     "nuid": "074ecaf7-78c8-48e2-b353-b9a00b861e85",
     "showTitle": false,
     "tableResultSettingsMap": {},
     "title": ""
    }
   },
   "outputs": [],
   "source": [
    "def runUserProfileSvProcess():\n",
    "    print(\"\\nstarted user profile silver loading\")\n",
    "    df_user_profile_bz = readAndTransformUserProfile()\n",
    "    saveUserProfileSv(df_user_profile_bz)\n",
    "    print(\"\\ncompleted user profile silver loading\")"
   ]
  },
  {
   "cell_type": "code",
   "execution_count": 0,
   "metadata": {
    "application/vnd.databricks.v1+cell": {
     "cellMetadata": {
      "byteLimit": 2048000,
      "rowLimit": 10000
     },
     "inputWidgets": {},
     "nuid": "aea2aa70-0045-4700-b235-2a43814d3e70",
     "showTitle": false,
     "tableResultSettingsMap": {},
     "title": ""
    }
   },
   "outputs": [],
   "source": [
    "runUserProfileSvProcess()"
   ]
  },
  {
   "cell_type": "code",
   "execution_count": 0,
   "metadata": {
    "application/vnd.databricks.v1+cell": {
     "cellMetadata": {
      "byteLimit": 2048000,
      "implicitDf": true,
      "rowLimit": 10000
     },
     "inputWidgets": {},
     "nuid": "32903eef-afad-40f0-8b75-edbcbb50ea7b",
     "showTitle": false,
     "tableResultSettingsMap": {},
     "title": ""
    }
   },
   "outputs": [],
   "source": [
    "%sql\n",
    "select * from user_profile_sv"
   ]
  }
 ],
 "metadata": {
  "application/vnd.databricks.v1+notebook": {
   "computePreferences": null,
   "dashboards": [],
   "environmentMetadata": {
    "base_environment": "",
    "client": "1"
   },
   "language": "python",
   "notebookMetadata": {
    "mostRecentlyExecutedCommandWithImplicitDF": {
     "commandId": 5987607348009825,
     "dataframes": [
      "_sqldf"
     ]
    },
    "pythonIndentUnit": 4
   },
   "notebookName": "2.user_profile_sv",
   "widgets": {}
  },
  "language_info": {
   "name": "python"
  }
 },
 "nbformat": 4,
 "nbformat_minor": 0
}
