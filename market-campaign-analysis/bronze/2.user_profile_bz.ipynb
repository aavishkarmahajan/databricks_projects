{
 "cells": [
  {
   "cell_type": "code",
   "execution_count": 0,
   "metadata": {
    "application/vnd.databricks.v1+cell": {
     "cellMetadata": {
      "byteLimit": 2048000,
      "rowLimit": 10000
     },
     "inputWidgets": {},
     "nuid": "e6ffeec3-722e-4010-9cbf-1620a3cd4563",
     "showTitle": false,
     "tableResultSettingsMap": {},
     "title": ""
    }
   },
   "outputs": [],
   "source": [
    "%run\n",
    "\"/Workspace/Users/aavishkarm@outlook.com/Development/projects/databricks_projects/market-campaign-analysis/setup/0.common_var\""
   ]
  },
  {
   "cell_type": "code",
   "execution_count": 0,
   "metadata": {
    "application/vnd.databricks.v1+cell": {
     "cellMetadata": {
      "byteLimit": 2048000,
      "rowLimit": 10000
     },
     "inputWidgets": {},
     "nuid": "86ee6d63-dffd-4567-a4cc-88b678160e66",
     "showTitle": false,
     "tableResultSettingsMap": {},
     "title": ""
    }
   },
   "outputs": [],
   "source": [
    "def readUserProfile():\n",
    "    from pyspark.sql.functions import input_file_name, current_timestamp\n",
    "    return spark.read.format('json')\\\n",
    "                     .option(\"multiline\", \"true\")\\\n",
    "                     .load(raw_user_profile_loc)\\\n",
    "                     .withColumn(\"input_file\", input_file_name())\\\n",
    "                     .withColumn(\"load_time\", current_timestamp())\n",
    "\n",
    "def saveUserProfileBz(df):\n",
    "    df.write.mode(\"overwrite\").saveAsTable(\"user_profile_bz\")\n",
    "    print(\"\\nsaved user profile bz data to table\")"
   ]
  },
  {
   "cell_type": "code",
   "execution_count": 0,
   "metadata": {
    "application/vnd.databricks.v1+cell": {
     "cellMetadata": {
      "byteLimit": 2048000,
      "rowLimit": 10000
     },
     "inputWidgets": {},
     "nuid": "d9c8f33e-731e-45d3-8a13-6b6ae73c2794",
     "showTitle": false,
     "tableResultSettingsMap": {},
     "title": ""
    }
   },
   "outputs": [],
   "source": [
    "def runUserProfileBzProcess():\n",
    "    print(\"\\nstarted user profile bronze loading\")\n",
    "    df_user_profile = readUserProfile()\n",
    "    saveUserProfileBz(df_user_profile)\n",
    "    print(\"\\ncompleted user profile bronze loading\")"
   ]
  },
  {
   "cell_type": "code",
   "execution_count": 0,
   "metadata": {
    "application/vnd.databricks.v1+cell": {
     "cellMetadata": {
      "byteLimit": 2048000,
      "rowLimit": 10000
     },
     "inputWidgets": {},
     "nuid": "d32a6de1-480d-4022-8b96-3e3df7f6746e",
     "showTitle": false,
     "tableResultSettingsMap": {},
     "title": ""
    }
   },
   "outputs": [],
   "source": [
    "runUserProfileBzProcess()"
   ]
  },
  {
   "cell_type": "code",
   "execution_count": 0,
   "metadata": {
    "application/vnd.databricks.v1+cell": {
     "cellMetadata": {
      "byteLimit": 2048000,
      "implicitDf": true,
      "rowLimit": 10000
     },
     "inputWidgets": {},
     "nuid": "9457ade5-0e1e-4ebc-a88c-e4e15866fb2a",
     "showTitle": false,
     "tableResultSettingsMap": {},
     "title": ""
    }
   },
   "outputs": [],
   "source": [
    "%sql\n",
    "select * from user_profile_bz"
   ]
  }
 ],
 "metadata": {
  "application/vnd.databricks.v1+notebook": {
   "computePreferences": null,
   "dashboards": [],
   "environmentMetadata": {
    "base_environment": "",
    "client": "1"
   },
   "language": "python",
   "notebookMetadata": {
    "mostRecentlyExecutedCommandWithImplicitDF": {
     "commandId": 8294677169393717,
     "dataframes": [
      "_sqldf"
     ]
    },
    "pythonIndentUnit": 4
   },
   "notebookName": "2.user_profile_bz",
   "widgets": {}
  },
  "language_info": {
   "name": "python"
  }
 },
 "nbformat": 4,
 "nbformat_minor": 0
}
