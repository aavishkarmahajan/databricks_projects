{
 "cells": [
  {
   "cell_type": "code",
   "execution_count": 0,
   "metadata": {
    "application/vnd.databricks.v1+cell": {
     "cellMetadata": {
      "byteLimit": 2048000,
      "rowLimit": 10000
     },
     "inputWidgets": {},
     "nuid": "7eb5307b-1b1d-4528-b8ab-e9a52c27e71c",
     "showTitle": false,
     "tableResultSettingsMap": {},
     "title": ""
    }
   },
   "outputs": [],
   "source": [
    "def getAdCampaignSv():\n",
    "    return spark.read.table('ad_campaign_sv')\n",
    "\n",
    "def getUserProfileSv():\n",
    "    return spark.read.table('user_profile_sv')\n",
    "\n",
    "def getStoreSv():\n",
    "    return spark.read.table('store_sv')\n",
    "\n",
    "#Analyze data for each campaign, date, hour, os_type to get all events with counts\n",
    "def getEventCountByOSType():\n",
    "    from pyspark.sql.functions import hour, to_date\n",
    "    df_c = getAdCampaignSv()\n",
    "    df_c.groupBy(\"campaign_id\", to_date(\"event_time\").alias(\"event_date\"), hour(\"event_time\").alias(\"event_hour\"), \"os_type\")\\\n",
    "        .count()\\\n",
    "        .show()\n",
    "\n",
    "#Analyze data for each campaign, date, hour, store_name to get all events with counts\n",
    "def getEventCountByStore():\n",
    "    from pyspark.sql.functions import hour, to_date, count\n",
    "    df_c = getAdCampaignSv()\n",
    "    df_s = getStoreSv()\n",
    "    df_c.join(df_s, df_c.place_id == df_s.place_id, \"left\")\\\n",
    "        .groupBy(df_c.campaign_id, to_date(df_c.event_time).alias(\"event_date\"), hour(df_c.event_time).alias(\"event_hour\"), \n",
    "                df_s.store_name)\\\n",
    "        .agg(count(df_c.campaign_id).alias(\"count_events\"))\\\n",
    "        .show()\n",
    "\n",
    "#Analyze data for each campaign, date, hour, gender_type to get all events with counts\n",
    "def getEventCountByGenderType():\n",
    "    from pyspark.sql.functions import hour, to_date, count\n",
    "    df_c = getAdCampaignSv()\n",
    "    df_u = getUserProfileSv()\n",
    "    df_c.join(df_u, df_c.user_id == df_u.user_id, \"left\")\\\n",
    "        .selectExpr(\"* except(category_expl)\")\\\n",
    "        .distinct()\\\n",
    "        .groupBy(df_c.campaign_id, to_date(df_c.event_time).alias(\"event_date\"), hour(df_c.event_time).alias(\"event_hour\"), \n",
    "                df_u.gender)\\\n",
    "        .agg(count(df_c.campaign_id).alias(\"count_events\"))\\\n",
    "        .show()"
   ]
  },
  {
   "cell_type": "code",
   "execution_count": 0,
   "metadata": {
    "application/vnd.databricks.v1+cell": {
     "cellMetadata": {
      "byteLimit": 2048000,
      "rowLimit": 10000
     },
     "inputWidgets": {},
     "nuid": "033a804a-40d7-4940-b864-c75f06f3d351",
     "showTitle": false,
     "tableResultSettingsMap": {},
     "title": ""
    }
   },
   "outputs": [],
   "source": [
    "getEventCountByOSType()"
   ]
  },
  {
   "cell_type": "code",
   "execution_count": 0,
   "metadata": {
    "application/vnd.databricks.v1+cell": {
     "cellMetadata": {
      "byteLimit": 2048000,
      "rowLimit": 10000
     },
     "inputWidgets": {},
     "nuid": "fadff3bc-fe66-4c27-8990-34ced9eb4c4e",
     "showTitle": false,
     "tableResultSettingsMap": {},
     "title": ""
    }
   },
   "outputs": [],
   "source": [
    "getEventCountByStore()"
   ]
  },
  {
   "cell_type": "code",
   "execution_count": 0,
   "metadata": {
    "application/vnd.databricks.v1+cell": {
     "cellMetadata": {
      "byteLimit": 2048000,
      "rowLimit": 10000
     },
     "inputWidgets": {},
     "nuid": "16a7d724-4f52-405c-9c5e-1410cd5e4675",
     "showTitle": false,
     "tableResultSettingsMap": {},
     "title": ""
    }
   },
   "outputs": [],
   "source": [
    "getEventCountByGenderType()"
   ]
  },
  {
   "cell_type": "markdown",
   "metadata": {
    "application/vnd.databricks.v1+cell": {
     "cellMetadata": {},
     "inputWidgets": {},
     "nuid": "10e872fb-23e9-44e7-bc59-84ef27669c1d",
     "showTitle": false,
     "tableResultSettingsMap": {},
     "title": ""
    }
   },
   "source": [
    "Campaign, UserProfile and Store - Silver data -->"
   ]
  },
  {
   "cell_type": "code",
   "execution_count": 0,
   "metadata": {
    "application/vnd.databricks.v1+cell": {
     "cellMetadata": {
      "byteLimit": 2048000,
      "implicitDf": true,
      "rowLimit": 10000
     },
     "inputWidgets": {},
     "nuid": "e28602bb-19fb-4f3d-9ea7-65c6c27d21cc",
     "showTitle": false,
     "tableResultSettingsMap": {},
     "title": ""
    }
   },
   "outputs": [],
   "source": [
    "%sql\n",
    "select * from ad_campaign_sv"
   ]
  },
  {
   "cell_type": "code",
   "execution_count": 0,
   "metadata": {
    "application/vnd.databricks.v1+cell": {
     "cellMetadata": {
      "byteLimit": 2048000,
      "implicitDf": true,
      "rowLimit": 10000
     },
     "inputWidgets": {},
     "nuid": "7bc72583-229e-4409-a661-26a521e15932",
     "showTitle": false,
     "tableResultSettingsMap": {},
     "title": ""
    }
   },
   "outputs": [],
   "source": [
    "%sql\n",
    "select * from user_profile_sv"
   ]
  },
  {
   "cell_type": "code",
   "execution_count": 0,
   "metadata": {
    "application/vnd.databricks.v1+cell": {
     "cellMetadata": {
      "byteLimit": 2048000,
      "implicitDf": true,
      "rowLimit": 10000
     },
     "inputWidgets": {},
     "nuid": "7a144af0-bdc7-4876-b4ab-85747490c9a8",
     "showTitle": false,
     "tableResultSettingsMap": {},
     "title": ""
    }
   },
   "outputs": [],
   "source": [
    "%sql\n",
    "select * from store_sv"
   ]
  }
 ],
 "metadata": {
  "application/vnd.databricks.v1+notebook": {
   "computePreferences": null,
   "dashboards": [],
   "environmentMetadata": {
    "base_environment": "",
    "client": "1"
   },
   "language": "python",
   "notebookMetadata": {
    "mostRecentlyExecutedCommandWithImplicitDF": {
     "commandId": 8671897055274090,
     "dataframes": [
      "_sqldf"
     ]
    },
    "pythonIndentUnit": 4
   },
   "notebookName": "1.campaign_analysis_gd",
   "widgets": {}
  },
  "language_info": {
   "name": "python"
  }
 },
 "nbformat": 4,
 "nbformat_minor": 0
}
